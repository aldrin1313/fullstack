{
 "cells": [
  {
   "cell_type": "markdown",
   "id": "36bef872",
   "metadata": {},
   "source": [
    "# 1. Why are functions advantageous to have in your programs?"
   ]
  },
  {
   "cell_type": "markdown",
   "id": "935dad34",
   "metadata": {},
   "source": [
    "Function will allow us to reuse the code again and again if the approach was same, which will indeed reduce the total lines of codes and also reduce the time complexity of the code"
   ]
  },
  {
   "cell_type": "markdown",
   "id": "772b01e5",
   "metadata": {},
   "source": [
    "# 2. When does the code in a function run: when its specified or when its called?"
   ]
  },
  {
   "cell_type": "markdown",
   "id": "d16656f4",
   "metadata": {},
   "source": [
    "When the function is called"
   ]
  },
  {
   "cell_type": "markdown",
   "id": "ee7cd5f4",
   "metadata": {},
   "source": [
    "# 3. What statement creates a function?"
   ]
  },
  {
   "cell_type": "markdown",
   "id": "a0efb4fb",
   "metadata": {},
   "source": [
    "The function is created by def keyword, def followed by the function name, for example:"
   ]
  },
  {
   "cell_type": "code",
   "execution_count": 1,
   "id": "b70c6b0e",
   "metadata": {},
   "outputs": [],
   "source": [
    "def new(x):\n",
    "    if x>2:\n",
    "        return True\n",
    "    else:\n",
    "        return False"
   ]
  },
  {
   "cell_type": "code",
   "execution_count": 3,
   "id": "2dd2900f",
   "metadata": {},
   "outputs": [
    {
     "data": {
      "text/plain": [
       "True"
      ]
     },
     "execution_count": 3,
     "metadata": {},
     "output_type": "execute_result"
    }
   ],
   "source": [
    "x=5\n",
    "new(x)"
   ]
  },
  {
   "cell_type": "markdown",
   "id": "411aaa38",
   "metadata": {},
   "source": [
    "# 4. What is the difference between a function and a function call?"
   ]
  },
  {
   "cell_type": "markdown",
   "id": "7ddb5e46",
   "metadata": {},
   "source": [
    "A  function is procedure to achieve a particular result while function call is using this function to achive that task"
   ]
  },
  {
   "cell_type": "markdown",
   "id": "008f3039",
   "metadata": {},
   "source": [
    "# 5. How many global scopes are there in a Python program? How many local scopes?"
   ]
  },
  {
   "cell_type": "markdown",
   "id": "1a83b64a",
   "metadata": {},
   "source": [
    "one global python scope and there can be as many local scopes"
   ]
  },
  {
   "cell_type": "markdown",
   "id": "1f621796",
   "metadata": {},
   "source": [
    "# 6. What happens to variables in a local scope when the function call returns?"
   ]
  },
  {
   "cell_type": "markdown",
   "id": "2a38ec63",
   "metadata": {},
   "source": [
    "When execution of the function returns the local variable will no longer be used, this means it will be destroyed and no longer can be of any use globally"
   ]
  },
  {
   "cell_type": "markdown",
   "id": "8d578d5b",
   "metadata": {},
   "source": [
    "# 7. What is the concept of a return value? Is it possible to have a return value in an expression?"
   ]
  },
  {
   "cell_type": "markdown",
   "id": "4f7c173b",
   "metadata": {},
   "source": [
    "return value will give back the calculate/evaluated value based on the logical expression in the function, yes it is possible to have the return value used in the expression as it might provide a meaning to the expression"
   ]
  },
  {
   "cell_type": "markdown",
   "id": "1df7f086",
   "metadata": {},
   "source": [
    "# 8. If a function does not have a return statement, what is the return value of a call to that function?"
   ]
  },
  {
   "cell_type": "markdown",
   "id": "473e18d9",
   "metadata": {},
   "source": [
    "in such case it will return nothing unless and until a return or print statement is specified "
   ]
  },
  {
   "cell_type": "markdown",
   "id": "596c4b91",
   "metadata": {},
   "source": [
    "# 9. How do you make a function variable refer to the global variable?"
   ]
  },
  {
   "cell_type": "markdown",
   "id": "122724fc",
   "metadata": {},
   "source": [
    "If you want to refer to a global variable in a function, you can use the global keyword to declare which variables are global\n",
    "A global statement will force a variable in a function to refer to the global variable."
   ]
  },
  {
   "cell_type": "markdown",
   "id": "56b9bb2e",
   "metadata": {},
   "source": [
    "# 10. What is the data type of None?"
   ]
  },
  {
   "cell_type": "code",
   "execution_count": 8,
   "id": "9f5ded93",
   "metadata": {},
   "outputs": [
    {
     "data": {
      "text/plain": [
       "NoneType"
      ]
     },
     "execution_count": 8,
     "metadata": {},
     "output_type": "execute_result"
    }
   ],
   "source": [
    "type(None)"
   ]
  },
  {
   "cell_type": "markdown",
   "id": "ccaa3be0",
   "metadata": {},
   "source": [
    "# 11. What does the sentence import areallyourpetsnamederic do?"
   ]
  },
  {
   "cell_type": "markdown",
   "id": "51ecb9e3",
   "metadata": {},
   "source": [
    "There isnt any module called as areallyourpetsnamederic, so as per my knowledge it will throw an error"
   ]
  },
  {
   "cell_type": "markdown",
   "id": "283cfcae",
   "metadata": {},
   "source": [
    "# 12. If you had a bacon() feature in a spam module, what would you call it after importing spam?"
   ]
  },
  {
   "cell_type": "markdown",
   "id": "04837d4f",
   "metadata": {},
   "source": [
    "it will be called as spam.bacon()"
   ]
  },
  {
   "cell_type": "markdown",
   "id": "127d0e8d",
   "metadata": {},
   "source": [
    "# 13. What can you do to save a programme from crashing if it encounters an error?"
   ]
  },
  {
   "cell_type": "markdown",
   "id": "b7f4685f",
   "metadata": {},
   "source": [
    "When it encounters an error, the control is passed to the except block, skipping the code in between."
   ]
  },
  {
   "cell_type": "markdown",
   "id": "beb4e56e",
   "metadata": {},
   "source": [
    "# 14. What is the purpose of the try clause? What is the purpose of the except clause?"
   ]
  },
  {
   "cell_type": "markdown",
   "id": "ddf968a5",
   "metadata": {},
   "source": [
    "try except clause is a very good tool to identify the errors in the code, try block will execute your code and if by any chance it finds any error it could be caught by except block, it could be arithmetic, syntax, OSerror,etc"
   ]
  }
 ],
 "metadata": {
  "kernelspec": {
   "display_name": "Python 3 (ipykernel)",
   "language": "python",
   "name": "python3"
  },
  "language_info": {
   "codemirror_mode": {
    "name": "ipython",
    "version": 3
   },
   "file_extension": ".py",
   "mimetype": "text/x-python",
   "name": "python",
   "nbconvert_exporter": "python",
   "pygments_lexer": "ipython3",
   "version": "3.9.7"
  }
 },
 "nbformat": 4,
 "nbformat_minor": 5
}

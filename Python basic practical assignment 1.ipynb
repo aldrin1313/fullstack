{
 "cells": [
  {
   "cell_type": "markdown",
   "id": "b1c453ac",
   "metadata": {},
   "source": [
    "# 1. Write a Python program to print \"Hello Python\"?"
   ]
  },
  {
   "cell_type": "code",
   "execution_count": 1,
   "id": "5195fe2d",
   "metadata": {},
   "outputs": [
    {
     "name": "stdout",
     "output_type": "stream",
     "text": [
      "Hello Python\n"
     ]
    }
   ],
   "source": [
    "print(\"Hello Python\")"
   ]
  },
  {
   "cell_type": "markdown",
   "id": "3e6b00c2",
   "metadata": {},
   "source": [
    "# 2. Write a Python program to do arithmetical operations addition and division.?"
   ]
  },
  {
   "cell_type": "code",
   "execution_count": 7,
   "id": "e22c89cc",
   "metadata": {},
   "outputs": [
    {
     "name": "stdout",
     "output_type": "stream",
     "text": [
      "Give first number 12\n",
      "Give second number 10\n",
      "The addition is 22\n",
      "The division is 1.2\n"
     ]
    }
   ],
   "source": [
    "a=int(input('Give first number '))\n",
    "b=int(input('Give second number '))\n",
    "print('The addition is {}'.format(a+b))\n",
    "print('The division is {}'.format(a/b))"
   ]
  },
  {
   "cell_type": "markdown",
   "id": "07384694",
   "metadata": {},
   "source": [
    "# 3. Write a Python program to find the area of a triangle?"
   ]
  },
  {
   "cell_type": "code",
   "execution_count": 6,
   "id": "0b541541",
   "metadata": {},
   "outputs": [
    {
     "name": "stdout",
     "output_type": "stream",
     "text": [
      "enter the breadth 12\n",
      "enter the height 10\n",
      "the area of triangle is 60.0\n"
     ]
    }
   ],
   "source": [
    "b=int(input('enter the breadth '))\n",
    "h=int(input('enter the height '))\n",
    "print('the area of triangle is {}'.format((b*h)/2))"
   ]
  },
  {
   "cell_type": "markdown",
   "id": "b7049806",
   "metadata": {},
   "source": [
    "# 4. Write a Python program to swap two variables?"
   ]
  },
  {
   "cell_type": "code",
   "execution_count": 8,
   "id": "f6d47afd",
   "metadata": {},
   "outputs": [
    {
     "name": "stdout",
     "output_type": "stream",
     "text": [
      "a: 3\n",
      "b: 2\n"
     ]
    }
   ],
   "source": [
    "a=2\n",
    "b=3\n",
    "c=a\n",
    "a=b\n",
    "b=c\n",
    "print('a: {}'.format(a))\n",
    "print('b: {}'.format(b))"
   ]
  },
  {
   "cell_type": "markdown",
   "id": "dc8a8c00",
   "metadata": {},
   "source": [
    "# 5. Write a Python program to generate a random number?"
   ]
  },
  {
   "cell_type": "code",
   "execution_count": 12,
   "id": "9d758fee",
   "metadata": {},
   "outputs": [],
   "source": [
    "import random"
   ]
  },
  {
   "cell_type": "code",
   "execution_count": 13,
   "id": "5f6fb5a0",
   "metadata": {},
   "outputs": [
    {
     "data": {
      "text/plain": [
       "0.20540633893603932"
      ]
     },
     "execution_count": 13,
     "metadata": {},
     "output_type": "execute_result"
    }
   ],
   "source": [
    "random.random()"
   ]
  },
  {
   "cell_type": "code",
   "execution_count": null,
   "id": "657f7cba",
   "metadata": {},
   "outputs": [],
   "source": []
  }
 ],
 "metadata": {
  "kernelspec": {
   "display_name": "Python 3 (ipykernel)",
   "language": "python",
   "name": "python3"
  },
  "language_info": {
   "codemirror_mode": {
    "name": "ipython",
    "version": 3
   },
   "file_extension": ".py",
   "mimetype": "text/x-python",
   "name": "python",
   "nbconvert_exporter": "python",
   "pygments_lexer": "ipython3",
   "version": "3.9.7"
  }
 },
 "nbformat": 4,
 "nbformat_minor": 5
}

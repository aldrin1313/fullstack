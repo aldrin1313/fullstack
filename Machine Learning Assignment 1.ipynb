{
 "cells": [
  {
   "cell_type": "markdown",
   "id": "3dff60a0",
   "metadata": {},
   "source": [
    "# 1. What does one mean by the term machine learning?"
   ]
  },
  {
   "cell_type": "markdown",
   "id": "2f72eaf8",
   "metadata": {},
   "source": [
    "It will be given a dataset based on that it will divde the dataset into two part, training and testing, based on this approach it will learn and predict the new data"
   ]
  },
  {
   "cell_type": "markdown",
   "id": "13ecf7cc",
   "metadata": {},
   "source": [
    "# 2.Can you think of 4 distinct types of issues where it shines?"
   ]
  },
  {
   "cell_type": "markdown",
   "id": "c5b02ee4",
   "metadata": {},
   "source": [
    "ML algorithm will work beautifully for breast cancer diagnosis prediction, wine quality classification, spam detection, credit card fault detection"
   ]
  },
  {
   "cell_type": "markdown",
   "id": "6110c9f4",
   "metadata": {},
   "source": [
    "# 3.What is a labeled training set, and how does it work?"
   ]
  },
  {
   "cell_type": "markdown",
   "id": "003be1de",
   "metadata": {},
   "source": [
    " It means identifying the dataset and try to give more meaningful contexts to make a better machine learning models"
   ]
  },
  {
   "cell_type": "markdown",
   "id": "4c3f9baf",
   "metadata": {},
   "source": [
    "# 4.What are the two most important tasks that are supervised?"
   ]
  },
  {
   "cell_type": "markdown",
   "id": "b5a2afd2",
   "metadata": {},
   "source": [
    "Classification and Regression"
   ]
  },
  {
   "cell_type": "markdown",
   "id": "448a60e0",
   "metadata": {},
   "source": [
    "# 5.Can you think of four examples of unsupervised tasks?"
   ]
  },
  {
   "cell_type": "markdown",
   "id": "f1c9c52f",
   "metadata": {},
   "source": [
    "Clustering, dimensionality reduction, visualization, associate rule"
   ]
  },
  {
   "cell_type": "markdown",
   "id": "5e9fcd51",
   "metadata": {},
   "source": [
    "# 6.Which algorithm will you use to divide your customers into different groups?"
   ]
  },
  {
   "cell_type": "markdown",
   "id": "7a1ea7b1",
   "metadata": {},
   "source": [
    "It would depend on the dataset, if it is a categorical dataset then I would choose supervised approach depending on the type I will choose classification or regression type else I would choose clustering approach which is an unsupervised approach which will find decision boundaries"
   ]
  },
  {
   "cell_type": "markdown",
   "id": "9cffbcdf",
   "metadata": {},
   "source": [
    "# 7.Will you consider the problem of spam detection to be a supervised or unsupervised learning problem?"
   ]
  },
  {
   "cell_type": "markdown",
   "id": "d8a83458",
   "metadata": {},
   "source": [
    "Unsupervised learning problem will be the best fit as per my knowledge"
   ]
  },
  {
   "cell_type": "markdown",
   "id": "5ba7f654",
   "metadata": {},
   "source": [
    "# 8.What is the concept of an online learning system?"
   ]
  },
  {
   "cell_type": "markdown",
   "id": "473924f0",
   "metadata": {},
   "source": [
    "An online learning system learns from new data on-the-fly. As a result, the system is trained incrementally either by using one example at a time or using a mini-batch approach. This keeps each learning step cheap and memory efficient."
   ]
  },
  {
   "cell_type": "markdown",
   "id": "41655247",
   "metadata": {},
   "source": [
    "# 9.What is out-of-core learning, and how does it differ from core learning?"
   ]
  },
  {
   "cell_type": "markdown",
   "id": "c3ed6c97",
   "metadata": {},
   "source": [
    "Out of core learning means the dataset could be fitted in  a memory of single machine however can be fitted in a web repository"
   ]
  },
  {
   "cell_type": "markdown",
   "id": "f5eca933",
   "metadata": {},
   "source": [
    "# 10.What kind of learning algorithm makes predictions using a similarity measure?"
   ]
  },
  {
   "cell_type": "markdown",
   "id": "e0b27e62",
   "metadata": {},
   "source": [
    "KNN, SOM, Learning Vector Quantization"
   ]
  },
  {
   "cell_type": "markdown",
   "id": "0601fca5",
   "metadata": {},
   "source": [
    "# 11.Whats the difference between a model parameter and a hyperparameter in a learning algorithm?"
   ]
  },
  {
   "cell_type": "markdown",
   "id": "d9820262",
   "metadata": {},
   "source": [
    "Model parameter simply means that the algorithm will use predefined parameters however hyperparameter tuning involves our approach where we can test the algorithm by giving several attributes for each parameter"
   ]
  },
  {
   "cell_type": "markdown",
   "id": "9b735634",
   "metadata": {},
   "source": [
    "# 12. What are the criteria that model-based learning algorithms look for? What is the most popular method they use to achieve success? What method do they use to make predictions?"
   ]
  },
  {
   "cell_type": "markdown",
   "id": "53fd6f4d",
   "metadata": {},
   "source": [
    "The goal for a model-based algorithm is to be able to generalize to new examples. To do this, model based algorithms search for optimal values for the model's parameters, often called theta. This searching, or \"learning\", is what machine learning is all about. Model-based system learn by minimizing a cost function that measures how bad the system is at making predicitons on new data, plus a penalty for model complexity if the model is regularized. To make a prediction, a new instance's features are fed into a hypothesis function which uses the minimized theta found by repeatedly running the cost function."
   ]
  },
  {
   "cell_type": "markdown",
   "id": "22039344",
   "metadata": {},
   "source": [
    "# 13.Can you name four of the most important Machine Learning challenges?"
   ]
  },
  {
   "cell_type": "markdown",
   "id": "2696d02b",
   "metadata": {},
   "source": [
    "1. To handle missing values\n",
    "2.  To fix overfitting, underfitting model\n",
    "3. Remove outliers\n",
    "4. Drop the columns which are not impacting the model"
   ]
  },
  {
   "cell_type": "markdown",
   "id": "d1840101",
   "metadata": {},
   "source": [
    "# 14.What happens if the model performs well on the training data but fails to generalize the results to new situations? Can you think of three different options?"
   ]
  },
  {
   "cell_type": "raw",
   "id": "f1294a29",
   "metadata": {},
   "source": [
    "This happens due to overfitting, to avoid this we will do the below\n",
    "1.Try simplyfying the model by reducing the number of features in the data or constraining the parameters by reducing the degrees of freedom.\n",
    "2.Gather more training data.\n",
    "3.Reduce noise in the training data by fixing errors and removing outliers"
   ]
  },
  {
   "cell_type": "markdown",
   "id": "b8e9b126",
   "metadata": {},
   "source": [
    "# 15.What exactly is a test set, and why would you need one?"
   ]
  },
  {
   "cell_type": "markdown",
   "id": "f7e431d6",
   "metadata": {},
   "source": [
    "Test set is traditionally generated from sklearn directory that is train_test_split, here we train some set of data where the model learns the dataset, knows about its variation and based on that it needs to test it, so as part of testing the model will use the rest of the dataset as part of testing set and make predictions"
   ]
  },
  {
   "cell_type": "markdown",
   "id": "9fec8d2d",
   "metadata": {},
   "source": [
    "# 16.What precisely is the train-dev kit, when will you need it, how do you put it to use?"
   ]
  },
  {
   "cell_type": "markdown",
   "id": "a3caaadb",
   "metadata": {},
   "source": [
    "The goal of dev-set is used to rank models based on the accuracy and help us to decide which one we have to move further with it"
   ]
  },
  {
   "cell_type": "markdown",
   "id": "a7d2f7cc",
   "metadata": {},
   "source": [
    "# 17.What can go wrong if you tune hyperparameters using the test set?"
   ]
  },
  {
   "cell_type": "markdown",
   "id": "7edeecd2",
   "metadata": {},
   "source": [
    "Your model will not be able to generalize the test results"
   ]
  },
  {
   "cell_type": "markdown",
   "id": "72bf6bf9",
   "metadata": {},
   "source": [
    "# 18.What is cross-validation and why would you prefer it to a validation set?"
   ]
  },
  {
   "cell_type": "markdown",
   "id": "011d1980",
   "metadata": {},
   "source": [
    "Cross validation follow brute force approach where it compares each parameter with every other parameters meaning it forms every possible combinations"
   ]
  }
 ],
 "metadata": {
  "kernelspec": {
   "display_name": "Python 3 (ipykernel)",
   "language": "python",
   "name": "python3"
  },
  "language_info": {
   "codemirror_mode": {
    "name": "ipython",
    "version": 3
   },
   "file_extension": ".py",
   "mimetype": "text/x-python",
   "name": "python",
   "nbconvert_exporter": "python",
   "pygments_lexer": "ipython3",
   "version": "3.9.7"
  }
 },
 "nbformat": 4,
 "nbformat_minor": 5
}

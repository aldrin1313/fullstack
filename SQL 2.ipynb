{
 "cells": [
  {
   "cell_type": "code",
   "execution_count": 1,
   "id": "73f3038b",
   "metadata": {},
   "outputs": [],
   "source": [
    "import mysql.connector as conn"
   ]
  },
  {
   "cell_type": "code",
   "execution_count": 4,
   "id": "0359979b",
   "metadata": {},
   "outputs": [],
   "source": [
    "mydb=conn.connect(host='localhost',user='root',password='mysql')"
   ]
  },
  {
   "cell_type": "code",
   "execution_count": 5,
   "id": "0ce6ffdc",
   "metadata": {},
   "outputs": [],
   "source": [
    "cursor=mydb.cursor()"
   ]
  },
  {
   "cell_type": "code",
   "execution_count": 6,
   "id": "d05650f1",
   "metadata": {},
   "outputs": [],
   "source": [
    "cursor.execute('show databases')"
   ]
  },
  {
   "cell_type": "code",
   "execution_count": 7,
   "id": "2686e0a5",
   "metadata": {},
   "outputs": [
    {
     "data": {
      "text/plain": [
       "[('bank',),\n",
       " ('ineuron',),\n",
       " ('ineuron1',),\n",
       " ('information_schema',),\n",
       " ('mysql',),\n",
       " ('org',),\n",
       " ('performance_schema',),\n",
       " ('sakila',),\n",
       " ('sys',),\n",
       " ('world',)]"
      ]
     },
     "execution_count": 7,
     "metadata": {},
     "output_type": "execute_result"
    }
   ],
   "source": [
    "cursor.fetchall()"
   ]
  },
  {
   "cell_type": "code",
   "execution_count": 8,
   "id": "b427422c",
   "metadata": {},
   "outputs": [],
   "source": [
    "cursor.execute('use org')"
   ]
  },
  {
   "cell_type": "code",
   "execution_count": 9,
   "id": "cd7ab22f",
   "metadata": {},
   "outputs": [],
   "source": [
    "cursor.execute('show tables')"
   ]
  },
  {
   "cell_type": "code",
   "execution_count": 10,
   "id": "f1d1f5cf",
   "metadata": {},
   "outputs": [
    {
     "data": {
      "text/plain": [
       "[('data',), ('worker',)]"
      ]
     },
     "execution_count": 10,
     "metadata": {},
     "output_type": "execute_result"
    }
   ],
   "source": [
    "cursor.fetchall()"
   ]
  },
  {
   "cell_type": "code",
   "execution_count": 11,
   "id": "e2d3278e",
   "metadata": {},
   "outputs": [],
   "source": [
    "cursor.execute('select * from worker')"
   ]
  },
  {
   "cell_type": "code",
   "execution_count": 13,
   "id": "210bd662",
   "metadata": {},
   "outputs": [],
   "source": [
    "cursor.execute(\"INSERT into WORKER values (001, 'Monica', 'Arora', 100000, 'HR'), (002, 'Niharika', 'Verma', 80000, 'Admin'), (003, 'Vishal', 'Singhal', 300000, 'HR'),(004, 'Amitabh', 'Singh', 500000, 'Admin'), (005, 'Vivek', 'Bhati', 500000, 'Admin'), (006, 'Vipul', 'Diwan', 200000, 'Account'), (007, 'Satish', 'Kumar', 75000, 'Account'), (008, 'Geetika', 'Chauhan', 90000, 'Admin');\")"
   ]
  },
  {
   "cell_type": "code",
   "execution_count": 15,
   "id": "05d85c9c",
   "metadata": {},
   "outputs": [],
   "source": [
    "cursor.execute('select * from worker')"
   ]
  },
  {
   "cell_type": "code",
   "execution_count": 16,
   "id": "0dc81098",
   "metadata": {},
   "outputs": [
    {
     "data": {
      "text/plain": [
       "[(1, 'Monica', 'Arora', 100000, 'HR'),\n",
       " (2, 'Niharika', 'Verma', 80000, 'Admin'),\n",
       " (3, 'Vishal', 'Singhal', 300000, 'HR'),\n",
       " (4, 'Amitabh', 'Singh', 500000, 'Admin'),\n",
       " (5, 'Vivek', 'Bhati', 500000, 'Admin'),\n",
       " (6, 'Vipul', 'Diwan', 200000, 'Account'),\n",
       " (7, 'Satish', 'Kumar', 75000, 'Account'),\n",
       " (8, 'Geetika', 'Chauhan', 90000, 'Admin')]"
      ]
     },
     "execution_count": 16,
     "metadata": {},
     "output_type": "execute_result"
    }
   ],
   "source": [
    "cursor.fetchall()"
   ]
  },
  {
   "cell_type": "markdown",
   "id": "3d48c306",
   "metadata": {},
   "source": [
    "# Q-1. Write an SQL query to print the first three characters of  FIRST_NAME from Worker\n",
    "table."
   ]
  },
  {
   "cell_type": "code",
   "execution_count": 17,
   "id": "abeb5068",
   "metadata": {},
   "outputs": [],
   "source": [
    "cursor.execute('select substr(FIRST_NAME,1,3) from worker')"
   ]
  },
  {
   "cell_type": "code",
   "execution_count": 18,
   "id": "497a0187",
   "metadata": {},
   "outputs": [
    {
     "data": {
      "text/plain": [
       "[('Mon',),\n",
       " ('Nih',),\n",
       " ('Vis',),\n",
       " ('Ami',),\n",
       " ('Viv',),\n",
       " ('Vip',),\n",
       " ('Sat',),\n",
       " ('Gee',)]"
      ]
     },
     "execution_count": 18,
     "metadata": {},
     "output_type": "execute_result"
    }
   ],
   "source": [
    "cursor.fetchall()"
   ]
  },
  {
   "cell_type": "markdown",
   "id": "2b3e75c4",
   "metadata": {},
   "source": [
    "# Q-2. Write an SQL query to find the position of the alphabet (‘a’) in the first name column ‘Amitabh’ from Worker table."
   ]
  },
  {
   "cell_type": "code",
   "execution_count": null,
   "id": "2bb627e7",
   "metadata": {},
   "outputs": [],
   "source": [
    "cursor.execute('select charindex('a','Amitabh') as Position from worker')"
   ]
  },
  {
   "cell_type": "markdown",
   "id": "9f4e1468",
   "metadata": {},
   "source": [
    "# Q-3. Write an SQL query to print the name of employees having the highest salary in each\n",
    "department."
   ]
  },
  {
   "cell_type": "code",
   "execution_count": 19,
   "id": "edb0d09e",
   "metadata": {},
   "outputs": [],
   "source": [
    "cursor.execute('select first_name, max(wage) from worker group by department')"
   ]
  },
  {
   "cell_type": "code",
   "execution_count": 20,
   "id": "97de13b7",
   "metadata": {},
   "outputs": [
    {
     "data": {
      "text/plain": [
       "[('Monica', 300000), ('Niharika', 500000), ('Vipul', 200000)]"
      ]
     },
     "execution_count": 20,
     "metadata": {},
     "output_type": "execute_result"
    }
   ],
   "source": [
    "cursor.fetchall()"
   ]
  },
  {
   "cell_type": "code",
   "execution_count": null,
   "id": "5b91f6b4",
   "metadata": {},
   "outputs": [],
   "source": []
  }
 ],
 "metadata": {
  "kernelspec": {
   "display_name": "Python 3 (ipykernel)",
   "language": "python",
   "name": "python3"
  },
  "language_info": {
   "codemirror_mode": {
    "name": "ipython",
    "version": 3
   },
   "file_extension": ".py",
   "mimetype": "text/x-python",
   "name": "python",
   "nbconvert_exporter": "python",
   "pygments_lexer": "ipython3",
   "version": "3.9.7"
  }
 },
 "nbformat": 4,
 "nbformat_minor": 5
}

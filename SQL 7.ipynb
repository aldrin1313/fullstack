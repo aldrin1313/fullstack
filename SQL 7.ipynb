{
 "cells": [
  {
   "cell_type": "code",
   "execution_count": null,
   "id": "ab0b2527",
   "metadata": {},
   "outputs": [],
   "source": []
  },
  {
   "cell_type": "code",
   "execution_count": 1,
   "id": "8f2f0e6e",
   "metadata": {},
   "outputs": [],
   "source": [
    "import mysql.connector as conn\n",
    "import pandas as pd"
   ]
  },
  {
   "cell_type": "code",
   "execution_count": 2,
   "id": "ded7d6a6",
   "metadata": {},
   "outputs": [],
   "source": [
    "mydb=conn.connect(host='localhost', user='root',password='divineland')"
   ]
  },
  {
   "cell_type": "code",
   "execution_count": 3,
   "id": "e0ff47b2",
   "metadata": {},
   "outputs": [],
   "source": [
    "cursor=mydb.cursor()"
   ]
  },
  {
   "cell_type": "code",
   "execution_count": 4,
   "id": "ea5ef442",
   "metadata": {},
   "outputs": [],
   "source": [
    "cursor.execute('show databases')"
   ]
  },
  {
   "cell_type": "code",
   "execution_count": 5,
   "id": "014e4bdf",
   "metadata": {},
   "outputs": [
    {
     "data": {
      "text/plain": [
       "[('bank',),\n",
       " ('ineuron',),\n",
       " ('ineuron1',),\n",
       " ('information_schema',),\n",
       " ('mysql',),\n",
       " ('org',),\n",
       " ('performance_schema',),\n",
       " ('sakila',),\n",
       " ('sys',),\n",
       " ('world',)]"
      ]
     },
     "execution_count": 5,
     "metadata": {},
     "output_type": "execute_result"
    }
   ],
   "source": [
    "cursor.fetchall()"
   ]
  },
  {
   "cell_type": "code",
   "execution_count": 6,
   "id": "e622b8f8",
   "metadata": {},
   "outputs": [],
   "source": [
    "cursor.execute('use org')"
   ]
  },
  {
   "cell_type": "code",
   "execution_count": 7,
   "id": "9a9c80db",
   "metadata": {},
   "outputs": [],
   "source": [
    "cursor.execute('show tables')"
   ]
  },
  {
   "cell_type": "code",
   "execution_count": 8,
   "id": "d9b8333e",
   "metadata": {},
   "outputs": [
    {
     "data": {
      "text/plain": [
       "[('data',), ('work',), ('worker',)]"
      ]
     },
     "execution_count": 8,
     "metadata": {},
     "output_type": "execute_result"
    }
   ],
   "source": [
    "cursor.fetchall()"
   ]
  },
  {
   "cell_type": "code",
   "execution_count": 11,
   "id": "eae5a253",
   "metadata": {},
   "outputs": [],
   "source": [
    "cursor.execute(\"INSERT INTO Work (WORKER_ID, FIRST_NAME, LAST_NAME, WAGE, JOINING_DATE, DEPARTMENT) VALUES(001, 'Monika', 'Arora', 100000, '14-02-20 09.00.00', 'HR'),(002, 'Niharika', 'Verma', 80000, '14-06-11 09.00.00', 'Admin'),(003, 'Vishal', 'Singhal', 300000, '14-02-20 09.00.00', 'HR'),(004, 'Amitabh', 'Singh', 500000, '14-02-20 09.00.00', 'Admin'),(005, 'Vivek', 'Bhati', 500000, '14-06-11 09.00.00', 'Admin'),(006, 'Vipul', 'Diwan', 200000, '14-06-11 09.00.00', 'Account'),(007, 'Satish', 'Kumar', 75000, '14-01-20 09.00.00', 'Account'),(008, 'Geetika', 'Chauhan', 90000, '14-04-11 09.00.00', 'Admin')\")"
   ]
  },
  {
   "cell_type": "code",
   "execution_count": 12,
   "id": "8bc48910",
   "metadata": {},
   "outputs": [],
   "source": [
    "cursor.execute('select * from work')\n"
   ]
  },
  {
   "cell_type": "code",
   "execution_count": 13,
   "id": "696a7747",
   "metadata": {},
   "outputs": [
    {
     "data": {
      "text/plain": [
       "[(1, 'Monika', 'Arora', 100000, datetime.datetime(2014, 2, 20, 9, 0), 'HR'),\n",
       " (2,\n",
       "  'Niharika',\n",
       "  'Verma',\n",
       "  80000,\n",
       "  datetime.datetime(2014, 6, 11, 9, 0),\n",
       "  'Admin'),\n",
       " (3, 'Vishal', 'Singhal', 300000, datetime.datetime(2014, 2, 20, 9, 0), 'HR'),\n",
       " (4,\n",
       "  'Amitabh',\n",
       "  'Singh',\n",
       "  500000,\n",
       "  datetime.datetime(2014, 2, 20, 9, 0),\n",
       "  'Admin'),\n",
       " (5, 'Vivek', 'Bhati', 500000, datetime.datetime(2014, 6, 11, 9, 0), 'Admin'),\n",
       " (6,\n",
       "  'Vipul',\n",
       "  'Diwan',\n",
       "  200000,\n",
       "  datetime.datetime(2014, 6, 11, 9, 0),\n",
       "  'Account'),\n",
       " (7,\n",
       "  'Satish',\n",
       "  'Kumar',\n",
       "  75000,\n",
       "  datetime.datetime(2014, 1, 20, 9, 0),\n",
       "  'Account'),\n",
       " (8,\n",
       "  'Geetika',\n",
       "  'Chauhan',\n",
       "  90000,\n",
       "  datetime.datetime(2014, 4, 11, 9, 0),\n",
       "  'Admin')]"
      ]
     },
     "execution_count": 13,
     "metadata": {},
     "output_type": "execute_result"
    }
   ],
   "source": [
    "cursor.fetchall()"
   ]
  },
  {
   "cell_type": "markdown",
   "id": "e50c16ce",
   "metadata": {},
   "source": [
    "# Q-13. Write an SQL query to show only odd rows from a table."
   ]
  },
  {
   "cell_type": "code",
   "execution_count": 15,
   "id": "2e0dd855",
   "metadata": {},
   "outputs": [],
   "source": [
    "cursor.execute('SELECT * FROM Work WHERE MOD (WORKER_ID, 2) <> 0')"
   ]
  },
  {
   "cell_type": "code",
   "execution_count": 16,
   "id": "6df384c4",
   "metadata": {},
   "outputs": [
    {
     "data": {
      "text/plain": [
       "[(1, 'Monika', 'Arora', 100000, datetime.datetime(2014, 2, 20, 9, 0), 'HR'),\n",
       " (3, 'Vishal', 'Singhal', 300000, datetime.datetime(2014, 2, 20, 9, 0), 'HR'),\n",
       " (5, 'Vivek', 'Bhati', 500000, datetime.datetime(2014, 6, 11, 9, 0), 'Admin'),\n",
       " (7,\n",
       "  'Satish',\n",
       "  'Kumar',\n",
       "  75000,\n",
       "  datetime.datetime(2014, 1, 20, 9, 0),\n",
       "  'Account')]"
      ]
     },
     "execution_count": 16,
     "metadata": {},
     "output_type": "execute_result"
    }
   ],
   "source": [
    "cursor.fetchall()"
   ]
  },
  {
   "cell_type": "code",
   "execution_count": 17,
   "id": "4e04b48e",
   "metadata": {},
   "outputs": [
    {
     "data": {
      "text/html": [
       "<div>\n",
       "<style scoped>\n",
       "    .dataframe tbody tr th:only-of-type {\n",
       "        vertical-align: middle;\n",
       "    }\n",
       "\n",
       "    .dataframe tbody tr th {\n",
       "        vertical-align: top;\n",
       "    }\n",
       "\n",
       "    .dataframe thead th {\n",
       "        text-align: right;\n",
       "    }\n",
       "</style>\n",
       "<table border=\"1\" class=\"dataframe\">\n",
       "  <thead>\n",
       "    <tr style=\"text-align: right;\">\n",
       "      <th></th>\n",
       "      <th>WORKER_ID</th>\n",
       "      <th>FIRST_NAME</th>\n",
       "      <th>LAST_NAME</th>\n",
       "      <th>WAGE</th>\n",
       "      <th>JOINING_DATE</th>\n",
       "      <th>DEPARTMENT</th>\n",
       "    </tr>\n",
       "  </thead>\n",
       "  <tbody>\n",
       "    <tr>\n",
       "      <th>0</th>\n",
       "      <td>1</td>\n",
       "      <td>Monika</td>\n",
       "      <td>Arora</td>\n",
       "      <td>100000</td>\n",
       "      <td>2014-02-20 09:00:00</td>\n",
       "      <td>HR</td>\n",
       "    </tr>\n",
       "    <tr>\n",
       "      <th>1</th>\n",
       "      <td>3</td>\n",
       "      <td>Vishal</td>\n",
       "      <td>Singhal</td>\n",
       "      <td>300000</td>\n",
       "      <td>2014-02-20 09:00:00</td>\n",
       "      <td>HR</td>\n",
       "    </tr>\n",
       "    <tr>\n",
       "      <th>2</th>\n",
       "      <td>5</td>\n",
       "      <td>Vivek</td>\n",
       "      <td>Bhati</td>\n",
       "      <td>500000</td>\n",
       "      <td>2014-06-11 09:00:00</td>\n",
       "      <td>Admin</td>\n",
       "    </tr>\n",
       "    <tr>\n",
       "      <th>3</th>\n",
       "      <td>7</td>\n",
       "      <td>Satish</td>\n",
       "      <td>Kumar</td>\n",
       "      <td>75000</td>\n",
       "      <td>2014-01-20 09:00:00</td>\n",
       "      <td>Account</td>\n",
       "    </tr>\n",
       "  </tbody>\n",
       "</table>\n",
       "</div>"
      ],
      "text/plain": [
       "   WORKER_ID FIRST_NAME LAST_NAME    WAGE        JOINING_DATE DEPARTMENT\n",
       "0          1     Monika     Arora  100000 2014-02-20 09:00:00         HR\n",
       "1          3     Vishal   Singhal  300000 2014-02-20 09:00:00         HR\n",
       "2          5      Vivek     Bhati  500000 2014-06-11 09:00:00      Admin\n",
       "3          7     Satish     Kumar   75000 2014-01-20 09:00:00    Account"
      ]
     },
     "execution_count": 17,
     "metadata": {},
     "output_type": "execute_result"
    }
   ],
   "source": [
    "pd.read_sql('SELECT * FROM Work WHERE MOD (WORKER_ID, 2) <> 0',mydb)"
   ]
  },
  {
   "cell_type": "markdown",
   "id": "24f35a65",
   "metadata": {},
   "source": [
    "# Q-14. Write an SQL query to clone a new table from another table."
   ]
  },
  {
   "cell_type": "code",
   "execution_count": null,
   "id": "73a60f38",
   "metadata": {},
   "outputs": [],
   "source": [
    "cursor.execute('select * into workclone from work')"
   ]
  }
 ],
 "metadata": {
  "kernelspec": {
   "display_name": "Python 3 (ipykernel)",
   "language": "python",
   "name": "python3"
  },
  "language_info": {
   "codemirror_mode": {
    "name": "ipython",
    "version": 3
   },
   "file_extension": ".py",
   "mimetype": "text/x-python",
   "name": "python",
   "nbconvert_exporter": "python",
   "pygments_lexer": "ipython3",
   "version": "3.9.7"
  }
 },
 "nbformat": 4,
 "nbformat_minor": 5
}

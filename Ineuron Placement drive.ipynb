{
 "cells": [
  {
   "cell_type": "markdown",
   "id": "c19075dd",
   "metadata": {},
   "source": [
    "## Create a function in python to read a text file and replace specific content of the file"
   ]
  },
  {
   "cell_type": "code",
   "execution_count": 103,
   "id": "54d7b815",
   "metadata": {},
   "outputs": [],
   "source": [
    "f=open('example.txt','w')"
   ]
  },
  {
   "cell_type": "code",
   "execution_count": 104,
   "id": "320adcae",
   "metadata": {},
   "outputs": [
    {
     "data": {
      "text/plain": [
       "30"
      ]
     },
     "execution_count": 104,
     "metadata": {},
     "output_type": "execute_result"
    }
   ],
   "source": [
    "f.write('This is a placement assignment')"
   ]
  },
  {
   "cell_type": "code",
   "execution_count": 106,
   "id": "6012a54c",
   "metadata": {},
   "outputs": [],
   "source": [
    "f.close()"
   ]
  },
  {
   "cell_type": "code",
   "execution_count": 107,
   "id": "75583089",
   "metadata": {},
   "outputs": [],
   "source": [
    "f=open('example.txt','r')"
   ]
  },
  {
   "cell_type": "code",
   "execution_count": 108,
   "id": "83c34e6f",
   "metadata": {},
   "outputs": [],
   "source": [
    "file=f.read()"
   ]
  },
  {
   "cell_type": "code",
   "execution_count": 109,
   "id": "a2508486",
   "metadata": {},
   "outputs": [],
   "source": [
    "file=file.replace('placement','screening')"
   ]
  },
  {
   "cell_type": "code",
   "execution_count": 110,
   "id": "95d9245e",
   "metadata": {},
   "outputs": [],
   "source": [
    "f=open('example.txt','w')"
   ]
  },
  {
   "cell_type": "code",
   "execution_count": 111,
   "id": "c08bd3d7",
   "metadata": {},
   "outputs": [
    {
     "data": {
      "text/plain": [
       "30"
      ]
     },
     "execution_count": 111,
     "metadata": {},
     "output_type": "execute_result"
    }
   ],
   "source": [
    "f.write(file)"
   ]
  },
  {
   "cell_type": "code",
   "execution_count": 112,
   "id": "e18b2c19",
   "metadata": {},
   "outputs": [],
   "source": [
    "f.close()"
   ]
  },
  {
   "cell_type": "code",
   "execution_count": 113,
   "id": "105272c4",
   "metadata": {},
   "outputs": [],
   "source": [
    "f=open('example.txt','r')"
   ]
  },
  {
   "cell_type": "code",
   "execution_count": 114,
   "id": "a62aca0d",
   "metadata": {},
   "outputs": [
    {
     "data": {
      "text/plain": [
       "'This is a screening assignment'"
      ]
     },
     "execution_count": 114,
     "metadata": {},
     "output_type": "execute_result"
    }
   ],
   "source": [
    "f.read()"
   ]
  },
  {
   "cell_type": "code",
   "execution_count": null,
   "id": "5b44dca5",
   "metadata": {},
   "outputs": [],
   "source": []
  },
  {
   "cell_type": "markdown",
   "id": "747c57ee",
   "metadata": {},
   "source": [
    "## Demonstrate the example of abstract class, multiple inheritance and decorator in python using examples"
   ]
  },
  {
   "cell_type": "code",
   "execution_count": 140,
   "id": "d24cae4c",
   "metadata": {},
   "outputs": [],
   "source": [
    "#Abstract class"
   ]
  },
  {
   "cell_type": "code",
   "execution_count": 146,
   "id": "3c79f7d2",
   "metadata": {},
   "outputs": [],
   "source": [
    "from abc import ABC, abstractmethod\n",
    "class Ineuron(ABC):\n",
    "    @abstractmethod\n",
    "    def Data_Science(self):\n",
    "        pass\n",
    "\n",
    "class Python(Ineuron):\n",
    "    def Data_Science(self):\n",
    "        print('Python is the core')\n",
    "        \n",
    "class ML(Ineuron):\n",
    "    def Data_Science(self):\n",
    "        print('ML is the base for DS')\n",
    "        \n",
    "class DL(Ineuron):\n",
    "    def Data_Science(self):\n",
    "        print('DL is the advanced version')"
   ]
  },
  {
   "cell_type": "code",
   "execution_count": 147,
   "id": "77015d84",
   "metadata": {},
   "outputs": [
    {
     "name": "stdout",
     "output_type": "stream",
     "text": [
      "Python is the core\n"
     ]
    }
   ],
   "source": [
    "p=Python()\n",
    "p.Data_Science()"
   ]
  },
  {
   "cell_type": "code",
   "execution_count": 148,
   "id": "759ed349",
   "metadata": {},
   "outputs": [],
   "source": [
    "#Mulitiple Inheritance"
   ]
  },
  {
   "cell_type": "code",
   "execution_count": 149,
   "id": "3c5a71ab",
   "metadata": {},
   "outputs": [],
   "source": [
    "class Animal:\n",
    "    def Herbivores(self):\n",
    "        print(\"This is the class for Herbivores animals\")\n",
    "        \n",
    "class Horse(Animal):\n",
    "    def White(self):\n",
    "        print(\"This is a white horse\")\n",
    "        \n",
    "class Giraffe(Animal):\n",
    "    def Yellow(self):\n",
    "        print(\"This is a yellow giraffe\")\n",
    "        "
   ]
  },
  {
   "cell_type": "code",
   "execution_count": 136,
   "id": "0ba39f9d",
   "metadata": {},
   "outputs": [
    {
     "name": "stdout",
     "output_type": "stream",
     "text": [
      "This is the class for Herbivores animals\n",
      "This is a white horse\n"
     ]
    }
   ],
   "source": [
    "h=Horse()\n",
    "h.Herbivores()\n",
    "h.White()"
   ]
  },
  {
   "cell_type": "code",
   "execution_count": 139,
   "id": "ccce3513",
   "metadata": {},
   "outputs": [
    {
     "name": "stdout",
     "output_type": "stream",
     "text": [
      "This is the class for Herbivores animals\n",
      "This is a yellow giraffe\n"
     ]
    }
   ],
   "source": [
    "g=Giraffe()\n",
    "g.Herbivores()\n",
    "g.Yellow()"
   ]
  },
  {
   "cell_type": "code",
   "execution_count": 150,
   "id": "506b16d0",
   "metadata": {},
   "outputs": [],
   "source": [
    "#Decorator"
   ]
  },
  {
   "cell_type": "code",
   "execution_count": 153,
   "id": "c368dde5",
   "metadata": {},
   "outputs": [
    {
     "name": "stdout",
     "output_type": "stream",
     "text": [
      "2.0\n"
     ]
    }
   ],
   "source": [
    "def divide(x,y):  \n",
    "    print(x/y)  \n",
    "def outer_div(func):  \n",
    "    def inner(x,y):  \n",
    "        if(x<y):  \n",
    "            x,y = y,x  \n",
    "        return func(x,y)  \n",
    "    return inner  \n",
    "divide1 = outer_div(divide)  \n",
    "divide1(2,4)  "
   ]
  },
  {
   "cell_type": "code",
   "execution_count": 154,
   "id": "efc00384",
   "metadata": {},
   "outputs": [
    {
     "data": {
      "text/plain": [
       "'D:\\\\iNeuron'"
      ]
     },
     "execution_count": 154,
     "metadata": {},
     "output_type": "execute_result"
    }
   ],
   "source": [
    "pwd"
   ]
  },
  {
   "cell_type": "code",
   "execution_count": null,
   "id": "df0f0edc",
   "metadata": {},
   "outputs": [],
   "source": []
  }
 ],
 "metadata": {
  "kernelspec": {
   "display_name": "Python 3 (ipykernel)",
   "language": "python",
   "name": "python3"
  },
  "language_info": {
   "codemirror_mode": {
    "name": "ipython",
    "version": 3
   },
   "file_extension": ".py",
   "mimetype": "text/x-python",
   "name": "python",
   "nbconvert_exporter": "python",
   "pygments_lexer": "ipython3",
   "version": "3.9.7"
  }
 },
 "nbformat": 4,
 "nbformat_minor": 5
}

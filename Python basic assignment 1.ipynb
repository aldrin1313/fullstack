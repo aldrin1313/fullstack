{
 "cells": [
  {
   "cell_type": "code",
   "execution_count": null,
   "id": "6ecce489",
   "metadata": {},
   "outputs": [],
   "source": [
    "1. What is the concept of human learning? Please give two examples.\n",
    "2. What different forms of human learning are there? Are there any machine learning equivalents?\n",
    "3. What is machine learning, and how does it work? What are the key responsibilities of machine learning?\n",
    "4. Define the terms \"penalty\" and \"reward\" in the context of reinforcement learning.\n",
    "5. Explain the term \"learning as a search\"?\n",
    "6. What are the various goals of machine learning? What is the relationship between these and human learning?\n",
    "7. Illustrate the various elements of machine learning using a real-life illustration.\n",
    "8. Provide an example of the abstraction method.\n",
    "9. What is the concept of generalization? What function does it play in the machine learning process?\n",
    "What is classification, exactly? What are the main distinctions between classification and regression?\n",
    "11. What is regression, and how does it work? Give an example of a real-world problem that was solved using regression.\n",
    "12. Describe the clustering mechanism in detail.\n",
    "13. Make brief observations on two of the following topics:\n",
    "i. Machine learning algorithms are used\n",
    "ii. Studying under supervision\n",
    "iii. Studying without supervision\n",
    "iv. Reinforcement learning is a form of learning based on positive reinforcement.\n"
   ]
  },
  {
   "cell_type": "code",
   "execution_count": null,
   "id": "02e19366",
   "metadata": {},
   "outputs": [],
   "source": [
    "\n",
    "\n",
    "\n",
    "\n"
   ]
  },
  {
   "cell_type": "markdown",
   "id": "6937ab33",
   "metadata": {},
   "source": [
    "# 1. Write a Python program to print \"Hello Python\"?"
   ]
  },
  {
   "cell_type": "code",
   "execution_count": 1,
   "id": "b95534d8",
   "metadata": {},
   "outputs": [
    {
     "name": "stdout",
     "output_type": "stream",
     "text": [
      "Hello Python\n"
     ]
    }
   ],
   "source": [
    "print(\"Hello Python\")"
   ]
  },
  {
   "cell_type": "markdown",
   "id": "73693887",
   "metadata": {},
   "source": [
    "# 2. Write a Python program to do arithmetical operations addition and division.?"
   ]
  },
  {
   "cell_type": "code",
   "execution_count": 7,
   "id": "0a2e88ec",
   "metadata": {},
   "outputs": [
    {
     "name": "stdout",
     "output_type": "stream",
     "text": [
      "Give first number 12\n",
      "Give second number 10\n",
      "The addition is 22\n",
      "The division is 1.2\n"
     ]
    }
   ],
   "source": [
    "a=int(input('Give first number '))\n",
    "b=int(input('Give second number '))\n",
    "print('The addition is {}'.format(a+b))\n",
    "print('The division is {}'.format(a/b))"
   ]
  },
  {
   "cell_type": "markdown",
   "id": "625a9b9c",
   "metadata": {},
   "source": [
    "# 3. Write a Python program to find the area of a triangle?"
   ]
  },
  {
   "cell_type": "code",
   "execution_count": 6,
   "id": "b8e1d050",
   "metadata": {},
   "outputs": [
    {
     "name": "stdout",
     "output_type": "stream",
     "text": [
      "enter the breadth 12\n",
      "enter the height 10\n",
      "the area of triangle is 60.0\n"
     ]
    }
   ],
   "source": [
    "b=int(input('enter the breadth '))\n",
    "h=int(input('enter the height '))\n",
    "print('the area of triangle is {}'.format((b*h)/2))"
   ]
  },
  {
   "cell_type": "markdown",
   "id": "cabacc0a",
   "metadata": {},
   "source": [
    "# 4. Write a Python program to swap two variables?"
   ]
  },
  {
   "cell_type": "code",
   "execution_count": 8,
   "id": "b2b6bd3d",
   "metadata": {},
   "outputs": [
    {
     "name": "stdout",
     "output_type": "stream",
     "text": [
      "a: 3\n",
      "b: 2\n"
     ]
    }
   ],
   "source": [
    "a=2\n",
    "b=3\n",
    "c=a\n",
    "a=b\n",
    "b=c\n",
    "print('a: {}'.format(a))\n",
    "print('b: {}'.format(b))"
   ]
  },
  {
   "cell_type": "markdown",
   "id": "f1eb61e2",
   "metadata": {},
   "source": [
    "# 5. Write a Python program to generate a random number?"
   ]
  },
  {
   "cell_type": "code",
   "execution_count": 9,
   "id": "fbeebf1f",
   "metadata": {},
   "outputs": [],
   "source": [
    "import numpy as np"
   ]
  },
  {
   "cell_type": "code",
   "execution_count": 11,
   "id": "bd09081f",
   "metadata": {},
   "outputs": [
    {
     "ename": "AttributeError",
     "evalue": "module 'numpy' has no attribute 'rand'",
     "output_type": "error",
     "traceback": [
      "\u001b[1;31m---------------------------------------------------------------------------\u001b[0m",
      "\u001b[1;31mAttributeError\u001b[0m                            Traceback (most recent call last)",
      "\u001b[1;32m~\\AppData\\Local\\Temp/ipykernel_7340/537502205.py\u001b[0m in \u001b[0;36m<module>\u001b[1;34m\u001b[0m\n\u001b[1;32m----> 1\u001b[1;33m \u001b[0mnp\u001b[0m\u001b[1;33m.\u001b[0m\u001b[0mrand\u001b[0m\u001b[1;33m(\u001b[0m\u001b[1;36m1\u001b[0m\u001b[1;33m)\u001b[0m\u001b[1;33m\u001b[0m\u001b[1;33m\u001b[0m\u001b[0m\n\u001b[0m",
      "\u001b[1;32m~\\AppData\\Local\\Programs\\Python\\Python39\\lib\\site-packages\\numpy\\__init__.py\u001b[0m in \u001b[0;36m__getattr__\u001b[1;34m(attr)\u001b[0m\n\u001b[0;32m    311\u001b[0m                 \u001b[1;32mreturn\u001b[0m \u001b[0mTester\u001b[0m\u001b[1;33m\u001b[0m\u001b[1;33m\u001b[0m\u001b[0m\n\u001b[0;32m    312\u001b[0m \u001b[1;33m\u001b[0m\u001b[0m\n\u001b[1;32m--> 313\u001b[1;33m             raise AttributeError(\"module {!r} has no attribute \"\n\u001b[0m\u001b[0;32m    314\u001b[0m                                  \"{!r}\".format(__name__, attr))\n\u001b[0;32m    315\u001b[0m \u001b[1;33m\u001b[0m\u001b[0m\n",
      "\u001b[1;31mAttributeError\u001b[0m: module 'numpy' has no attribute 'rand'"
     ]
    }
   ],
   "source": [
    "np.rand(1)"
   ]
  },
  {
   "cell_type": "code",
   "execution_count": null,
   "id": "30c6a1f1",
   "metadata": {},
   "outputs": [],
   "source": []
  }
 ],
 "metadata": {
  "kernelspec": {
   "display_name": "Python 3 (ipykernel)",
   "language": "python",
   "name": "python3"
  },
  "language_info": {
   "codemirror_mode": {
    "name": "ipython",
    "version": 3
   },
   "file_extension": ".py",
   "mimetype": "text/x-python",
   "name": "python",
   "nbconvert_exporter": "python",
   "pygments_lexer": "ipython3",
   "version": "3.9.7"
  }
 },
 "nbformat": 4,
 "nbformat_minor": 5
}

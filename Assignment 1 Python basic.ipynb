{
 "cells": [
  {
   "cell_type": "markdown",
   "id": "4a4122f5",
   "metadata": {},
   "source": [
    "# 1. In the below elements which of them are values or an expression? eg:- values can be integer or string and expressions will be mathematical operators.\n",
    "* \n",
    "'hello'\n",
    "-87.8\n",
    "- \n",
    "/ \n",
    "\n",
    "\n",
    "6 \n"
   ]
  },
  {
   "cell_type": "raw",
   "id": "0b3d0490",
   "metadata": {},
   "source": [
    "Solution: Values are: ‘hello’, -87.8, 6\n",
    "          Expression are: *, -, /,  +"
   ]
  },
  {
   "cell_type": "markdown",
   "id": "9f8f9e96",
   "metadata": {},
   "source": [
    "# 2. What is the difference between string and variable?\n"
   ]
  },
  {
   "cell_type": "markdown",
   "id": "6503b5d9",
   "metadata": {},
   "source": [
    "String can be a word or a list of words for example, ‘hello’, ‘how are you’\n",
    "Variable is what we store an element, it basically stores the address of the element, for example: x=10, here x stores element 10 which makes that as a variable"
   ]
  },
  {
   "cell_type": "code",
   "execution_count": null,
   "id": "467b1864",
   "metadata": {},
   "outputs": [],
   "source": [
    "3.\t\n",
    "\n",
    "4.\t\n",
    "5.\t\n",
    "\n",
    "6.\t\n",
    "\n",
    "7.\t\n",
    "\n",
    "8.\t\n",
    "\n",
    "9.\t\n",
    "\n",
    "10.\t'i have eaten'+' 99 '+'burritos’\n"
   ]
  },
  {
   "cell_type": "markdown",
   "id": "e418eb1c",
   "metadata": {},
   "source": [
    "# Describe three different data types"
   ]
  },
  {
   "cell_type": "markdown",
   "id": "76105945",
   "metadata": {},
   "source": [
    "Float, int, string"
   ]
  },
  {
   "cell_type": "markdown",
   "id": "a0c9b4f3",
   "metadata": {},
   "source": [
    "# 4. What is an expression made up of? What do all expressions do?"
   ]
  },
  {
   "cell_type": "markdown",
   "id": "984e5503",
   "metadata": {},
   "source": [
    "Expression is what it includes values and mathematical operator in an understandable format, for example a=4+3, it will evaluate and give us the result"
   ]
  },
  {
   "cell_type": "markdown",
   "id": "e422dabc",
   "metadata": {},
   "source": [
    "# 5. This assignment statements, like spam = 10. What is the difference between an expression and a statement?"
   ]
  },
  {
   "cell_type": "markdown",
   "id": "719f97ba",
   "metadata": {},
   "source": [
    "Expression is like a mathematical operation and statement is what python executes as print"
   ]
  },
  {
   "cell_type": "markdown",
   "id": "7cb53f87",
   "metadata": {},
   "source": [
    "# 6. After running the following code, what does the variable bacon contain?\n",
    "bacon = 22\n",
    "\n",
    "bacon + 1"
   ]
  },
  {
   "cell_type": "markdown",
   "id": "7401e69a",
   "metadata": {},
   "source": [
    "Variable bacon will be incremented by 1, so bacon=23"
   ]
  },
  {
   "cell_type": "markdown",
   "id": "d9666312",
   "metadata": {},
   "source": [
    "# 7. What should the values of the following two terms be?\n",
    "'spam' + 'spamspam'\n",
    "\n",
    "'spam' * 3\n"
   ]
  },
  {
   "cell_type": "markdown",
   "id": "33ba5529",
   "metadata": {},
   "source": [
    "spamspamspam, \n",
    "spamspamspam"
   ]
  },
  {
   "cell_type": "markdown",
   "id": "e281cd9e",
   "metadata": {},
   "source": [
    "# 8. Why is eggs a valid variable name while 100 is invalid?\n"
   ]
  },
  {
   "cell_type": "markdown",
   "id": "dc9f4000",
   "metadata": {},
   "source": [
    "100 is invalid variable because integer cannot hold any elements, however eggs will because it is a string and can be initialized as a variable"
   ]
  },
  {
   "cell_type": "markdown",
   "id": "e0011a18",
   "metadata": {},
   "source": [
    "# 9. What three functions can be used to get the integer, floating-point number, or string version of a value?\n"
   ]
  },
  {
   "cell_type": "markdown",
   "id": "8b4fd037",
   "metadata": {},
   "source": [
    "For integer: int(); For float: float(); For string: str()"
   ]
  },
  {
   "cell_type": "markdown",
   "id": "e7410378",
   "metadata": {},
   "source": [
    "# 10. Why does this expression cause an error? How can you fix it?\n",
    "'I have eaten ' + 99 + ' burritos.'"
   ]
  },
  {
   "cell_type": "code",
   "execution_count": 2,
   "id": "da8be03e",
   "metadata": {},
   "outputs": [
    {
     "ename": "TypeError",
     "evalue": "can only concatenate str (not \"int\") to str",
     "output_type": "error",
     "traceback": [
      "\u001b[1;31m---------------------------------------------------------------------------\u001b[0m",
      "\u001b[1;31mTypeError\u001b[0m                                 Traceback (most recent call last)",
      "\u001b[1;32m~\\AppData\\Local\\Temp/ipykernel_21288/1774935878.py\u001b[0m in \u001b[0;36m<module>\u001b[1;34m\u001b[0m\n\u001b[1;32m----> 1\u001b[1;33m \u001b[1;34m'I have eaten '\u001b[0m \u001b[1;33m+\u001b[0m \u001b[1;36m99\u001b[0m \u001b[1;33m+\u001b[0m \u001b[1;34m' burritos.'\u001b[0m\u001b[1;33m\u001b[0m\u001b[1;33m\u001b[0m\u001b[0m\n\u001b[0m",
      "\u001b[1;31mTypeError\u001b[0m: can only concatenate str (not \"int\") to str"
     ]
    }
   ],
   "source": [
    "'I have eaten ' + 99 + ' burritos.'"
   ]
  },
  {
   "cell_type": "code",
   "execution_count": null,
   "id": "43b227c5",
   "metadata": {},
   "outputs": [],
   "source": [
    "It throws an error because 99 is an integer and it is not able to concatenate with strings"
   ]
  },
  {
   "cell_type": "code",
   "execution_count": 4,
   "id": "a0508fb0",
   "metadata": {},
   "outputs": [
    {
     "data": {
      "text/plain": [
       "'i have eaten 99 burritos'"
      ]
     },
     "execution_count": 4,
     "metadata": {},
     "output_type": "execute_result"
    }
   ],
   "source": [
    "'i have eaten'+' 99 '+'burritos'"
   ]
  },
  {
   "cell_type": "code",
   "execution_count": null,
   "id": "0b1a4a1c",
   "metadata": {},
   "outputs": [],
   "source": [
    "Here I have concatenated 99 as string"
   ]
  },
  {
   "cell_type": "code",
   "execution_count": 5,
   "id": "c3eeed6d",
   "metadata": {},
   "outputs": [
    {
     "data": {
      "text/plain": [
       "'I have eaten 99 burritos.'"
      ]
     },
     "execution_count": 5,
     "metadata": {},
     "output_type": "execute_result"
    }
   ],
   "source": [
    "'I have eaten ' + str(99) + ' burritos.'"
   ]
  },
  {
   "cell_type": "code",
   "execution_count": null,
   "id": "dbf0ab27",
   "metadata": {},
   "outputs": [],
   "source": []
  }
 ],
 "metadata": {
  "kernelspec": {
   "display_name": "Python 3 (ipykernel)",
   "language": "python",
   "name": "python3"
  },
  "language_info": {
   "codemirror_mode": {
    "name": "ipython",
    "version": 3
   },
   "file_extension": ".py",
   "mimetype": "text/x-python",
   "name": "python",
   "nbconvert_exporter": "python",
   "pygments_lexer": "ipython3",
   "version": "3.9.7"
  }
 },
 "nbformat": 4,
 "nbformat_minor": 5
}

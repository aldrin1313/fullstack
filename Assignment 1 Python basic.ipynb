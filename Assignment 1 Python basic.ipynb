{
 "cells": [
  {
   "cell_type": "markdown",
   "id": "3faf97ba",
   "metadata": {},
   "source": [
    "# 1. In the below elements which of them are values or an expression? eg:- values can be integer or string and expressions will be mathematical operators."
   ]
  },
  {
   "cell_type": "code",
   "execution_count": null,
   "id": "73176673",
   "metadata": {},
   "outputs": [],
   "source": [
    "* \n",
    "'hello'\n",
    "-87.8\n",
    "- \n",
    "/ \n",
    "+\n",
    "6 "
   ]
  },
  {
   "cell_type": "raw",
   "id": "57926a95",
   "metadata": {},
   "source": [
    "Solution: Values are: ‘hello’, -87.8, 6\n",
    "          Expression are: *, -, /,  +"
   ]
  },
  {
   "cell_type": "markdown",
   "id": "39a909d2",
   "metadata": {},
   "source": [
    "# 2. What is the difference between string and variable?\n"
   ]
  },
  {
   "cell_type": "markdown",
   "id": "62106f29",
   "metadata": {},
   "source": [
    "String can be a word or a list of words for example, ‘hello’, ‘how are you’\n",
    "Variable is what we store an element, it basically stores the address of the element, for example: x=10, here x stores element 10 which makes that as a variable"
   ]
  },
  {
   "cell_type": "markdown",
   "id": "fe01f7e3",
   "metadata": {},
   "source": [
    "# 3.Describe three different data types"
   ]
  },
  {
   "cell_type": "markdown",
   "id": "13da07a5",
   "metadata": {},
   "source": [
    "Float, int, string"
   ]
  },
  {
   "cell_type": "markdown",
   "id": "bf06504c",
   "metadata": {},
   "source": [
    "# 4. What is an expression made up of? What do all expressions do?"
   ]
  },
  {
   "cell_type": "markdown",
   "id": "c9cfab4c",
   "metadata": {},
   "source": [
    "Expression is what it includes values and mathematical operator in an understandable format, for example a=4+3, it will evaluate and give us the result"
   ]
  },
  {
   "cell_type": "markdown",
   "id": "5ac476f0",
   "metadata": {},
   "source": [
    "# 5. This assignment statements, like spam = 10. What is the difference between an expression and a statement?"
   ]
  },
  {
   "cell_type": "markdown",
   "id": "d37b8519",
   "metadata": {},
   "source": [
    "Expression is like a mathematical operation and statement is what python executes as print"
   ]
  },
  {
   "cell_type": "markdown",
   "id": "bd6f0d30",
   "metadata": {},
   "source": [
    "# 6. After running the following code, what does the variable bacon contain?\n",
    "bacon = 22\n",
    "\n",
    "bacon + 1"
   ]
  },
  {
   "cell_type": "markdown",
   "id": "3e01b378",
   "metadata": {},
   "source": [
    "Variable bacon will be incremented by 1, so bacon=23"
   ]
  },
  {
   "cell_type": "markdown",
   "id": "feea19c6",
   "metadata": {},
   "source": [
    "# 7. What should the values of the following two terms be?\n",
    "'spam' + 'spamspam'\n",
    "\n",
    "'spam' * 3\n"
   ]
  },
  {
   "cell_type": "markdown",
   "id": "88605c39",
   "metadata": {},
   "source": [
    "spamspamspam, \n",
    "spamspamspam"
   ]
  },
  {
   "cell_type": "markdown",
   "id": "7b628c5d",
   "metadata": {},
   "source": [
    "# 8. Why is eggs a valid variable name while 100 is invalid?\n"
   ]
  },
  {
   "cell_type": "markdown",
   "id": "2e00f29f",
   "metadata": {},
   "source": [
    "100 is invalid variable because integer cannot hold any elements, however eggs will because it is a string and can be initialized as a variable"
   ]
  },
  {
   "cell_type": "markdown",
   "id": "6701383a",
   "metadata": {},
   "source": [
    "# 9. What three functions can be used to get the integer, floating-point number, or string version of a value?\n"
   ]
  },
  {
   "cell_type": "markdown",
   "id": "3b634a3f",
   "metadata": {},
   "source": [
    "For integer: int(); For float: float(); For string: str()"
   ]
  },
  {
   "cell_type": "markdown",
   "id": "060ac29c",
   "metadata": {},
   "source": [
    "# 10. Why does this expression cause an error? How can you fix it?\n",
    "'I have eaten ' + 99 + ' burritos.'"
   ]
  },
  {
   "cell_type": "code",
   "execution_count": 2,
   "id": "1d72ff2e",
   "metadata": {},
   "outputs": [
    {
     "ename": "TypeError",
     "evalue": "can only concatenate str (not \"int\") to str",
     "output_type": "error",
     "traceback": [
      "\u001b[1;31m---------------------------------------------------------------------------\u001b[0m",
      "\u001b[1;31mTypeError\u001b[0m                                 Traceback (most recent call last)",
      "\u001b[1;32m~\\AppData\\Local\\Temp/ipykernel_21288/1774935878.py\u001b[0m in \u001b[0;36m<module>\u001b[1;34m\u001b[0m\n\u001b[1;32m----> 1\u001b[1;33m \u001b[1;34m'I have eaten '\u001b[0m \u001b[1;33m+\u001b[0m \u001b[1;36m99\u001b[0m \u001b[1;33m+\u001b[0m \u001b[1;34m' burritos.'\u001b[0m\u001b[1;33m\u001b[0m\u001b[1;33m\u001b[0m\u001b[0m\n\u001b[0m",
      "\u001b[1;31mTypeError\u001b[0m: can only concatenate str (not \"int\") to str"
     ]
    }
   ],
   "source": [
    "'I have eaten ' + 99 + ' burritos.'"
   ]
  },
  {
   "cell_type": "code",
   "execution_count": null,
   "id": "61bdc028",
   "metadata": {},
   "outputs": [],
   "source": [
    "It throws an error because 99 is an integer and it is not able to concatenate with strings"
   ]
  },
  {
   "cell_type": "code",
   "execution_count": 4,
   "id": "643d1ae1",
   "metadata": {},
   "outputs": [
    {
     "data": {
      "text/plain": [
       "'i have eaten 99 burritos'"
      ]
     },
     "execution_count": 4,
     "metadata": {},
     "output_type": "execute_result"
    }
   ],
   "source": [
    "'i have eaten'+' 99 '+'burritos'"
   ]
  },
  {
   "cell_type": "markdown",
   "id": "4e6fc69b",
   "metadata": {},
   "source": [
    "Here I have concatenated 99 as string"
   ]
  },
  {
   "cell_type": "code",
   "execution_count": 5,
   "id": "5b2b16d6",
   "metadata": {},
   "outputs": [
    {
     "data": {
      "text/plain": [
       "'I have eaten 99 burritos.'"
      ]
     },
     "execution_count": 5,
     "metadata": {},
     "output_type": "execute_result"
    }
   ],
   "source": [
    "'I have eaten ' + str(99) + ' burritos.'"
   ]
  },
  {
   "cell_type": "markdown",
   "id": "a793b8cd",
   "metadata": {},
   "source": [
    "This can be also done"
   ]
  }
 ],
 "metadata": {
  "kernelspec": {
   "display_name": "Python 3 (ipykernel)",
   "language": "python",
   "name": "python3"
  },
  "language_info": {
   "codemirror_mode": {
    "name": "ipython",
    "version": 3
   },
   "file_extension": ".py",
   "mimetype": "text/x-python",
   "name": "python",
   "nbconvert_exporter": "python",
   "pygments_lexer": "ipython3",
   "version": "3.9.7"
  }
 },
 "nbformat": 4,
 "nbformat_minor": 5
}

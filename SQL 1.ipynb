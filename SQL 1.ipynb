{
 "cells": [
  {
   "cell_type": "raw",
   "id": "1eba9d13",
   "metadata": {},
   "source": [
    " INSERT IN THE WORKER (WORKER_ID, FIRST_NAME, LAST_NAME, SALARY, JOINING_DATE, DEPARTMENT) VALUES (001, Monica, Arora, 100000, 14-02-20 HR), (002, Niharika, Verma, 80000, 14-06-11 14-06-11 Admin), (003, Vishal, Singhal, 300000, 14-02-20 09.00.00, HR),\n",
    "(004, 'Amitabh', 'Singh', 500000, '14-02-20 09.00.00', 'Admin'), (005, 'Vivek', 'Bhati', 500000, '14-06-11 09.00.00', 'Admin'), (006, Vipul, Diwan, 200000, 14-06-11 09.00.00, Account), (007, Satish, Kumar, 75000, 14-0 1 -20 09.00.00, Account), (008, Geetika, Chauhan, 90000, 14-04-11 09.00.00, Admin); Create\n",
    "WORKER_REF_ID ( WORKER_REF_ID INT, BONUS_AMOUNT INT(10), BONUS_DATE DATETIME, FOREIGN KEY (WORKER_REF_ID) REFERENCES WHEN DELETING WORKER_ID DATA); INSERT BONUS (WORKER_REF_ID, BONUS_AMOUNT, BONUS_DATE) VALUES (001, 5000, 16-02-20), (002, 3000,\n",
    "16-06-11), (003, 4000, 16-02-20), (001, 4500, 16-02-20), (002, 3500, 16-06-11); TABLE Title ( WORKER_REF_ID INT, WORKER_TITLE CHAR[25), AFFECTED_FROM DATETIME, FOREIGN KEY (WORKER_REF_ID) REFERENCES Worker(WORKER_ID) ON DELETE CASCADE; PASTE INTO address\n",
    "(WORKER_REF_ID, WORKER_TITLE, AFFECTED_FROM) VALUES (001, Manager, 2016-02-20 00:00:00), (002, Executive, 2016-06-11 00:00:00), (008, Executive, 2016-06-11 00:00:00), (005, Manager, '2016-06-11 00:00:00'), (004, Asst. Manager, '2016-06-11 00:00:00'), (007, 'Executive', '2016-06-1 1 00:00:00'),\n",
    "(006, 'Lead', '2016-06-11 00:00:00'), (003, 'Lead', '2016-06-11 00:00:00');"
   ]
  },
  {
   "cell_type": "code",
   "execution_count": 1,
   "id": "7424c9f7",
   "metadata": {},
   "outputs": [],
   "source": [
    "import mysql.connector as conn"
   ]
  },
  {
   "cell_type": "code",
   "execution_count": 2,
   "id": "55b90f3e",
   "metadata": {},
   "outputs": [],
   "source": [
    "mydb=conn.connect(host='localhost',user='root',password='divineland')"
   ]
  },
  {
   "cell_type": "code",
   "execution_count": 3,
   "id": "81c9e1af",
   "metadata": {},
   "outputs": [],
   "source": [
    "cursor=mydb.cursor()"
   ]
  },
  {
   "cell_type": "code",
   "execution_count": 4,
   "id": "9073dc70",
   "metadata": {},
   "outputs": [],
   "source": [
    "cursor.execute('show databases')"
   ]
  },
  {
   "cell_type": "code",
   "execution_count": 5,
   "id": "c39603e9",
   "metadata": {},
   "outputs": [
    {
     "data": {
      "text/plain": [
       "[('bank',),\n",
       " ('ineuron',),\n",
       " ('ineuron1',),\n",
       " ('information_schema',),\n",
       " ('mysql',),\n",
       " ('org',),\n",
       " ('performance_schema',),\n",
       " ('sakila',),\n",
       " ('sys',),\n",
       " ('world',)]"
      ]
     },
     "execution_count": 5,
     "metadata": {},
     "output_type": "execute_result"
    }
   ],
   "source": [
    "cursor.fetchall()"
   ]
  },
  {
   "cell_type": "code",
   "execution_count": 6,
   "id": "df1595a3",
   "metadata": {},
   "outputs": [],
   "source": [
    "cursor.execute('use org;')"
   ]
  },
  {
   "cell_type": "code",
   "execution_count": 66,
   "id": "ef9471c7",
   "metadata": {},
   "outputs": [],
   "source": [
    "cursor.execute('drop table worker;')"
   ]
  },
  {
   "cell_type": "code",
   "execution_count": 67,
   "id": "aabc83d4",
   "metadata": {},
   "outputs": [],
   "source": [
    "cursor.execute('create table WORKER (WORKER_ID int(15), FIRST_NAME varchar(25), LAST_NAME char(25), WAGE INT(15),DEPARTMENT char(10));')"
   ]
  },
  {
   "cell_type": "code",
   "execution_count": 72,
   "id": "3e818911",
   "metadata": {},
   "outputs": [],
   "source": [
    "cursor.execute(\"INSERT into WORKER values (001, 'Monica', 'Arora', 100000, 'HR'), (002, 'Niharika', 'Verma', 80000, 'Admin'), (003, 'Vishal', 'Singhal', 300000, 'HR'),(004, 'Amitabh', 'Singh', 500000, 'Admin'), (005, 'Vivek', 'Bhati', 500000, 'Admin'), (006, 'Vipul', 'Diwan', 200000, 'Account'), (007, 'Satish', 'Kumar', 75000, 'Account'), (008, 'Geetika', 'Chauhan', 90000, 'Admin');\")"
   ]
  },
  {
   "cell_type": "code",
   "execution_count": 73,
   "id": "16b2acd3",
   "metadata": {},
   "outputs": [],
   "source": [
    "cursor.execute('select * from worker')"
   ]
  },
  {
   "cell_type": "code",
   "execution_count": 74,
   "id": "d0ae773a",
   "metadata": {},
   "outputs": [
    {
     "data": {
      "text/plain": [
       "[(1, 'Monica', 'Arora', 100000, 'HR'),\n",
       " (2, 'Niharika', 'Verma', 80000, 'Admin'),\n",
       " (3, 'Vishal', 'Singhal', 300000, 'HR'),\n",
       " (4, 'Amitabh', 'Singh', 500000, 'Admin'),\n",
       " (5, 'Vivek', 'Bhati', 500000, 'Admin'),\n",
       " (6, 'Vipul', 'Diwan', 200000, 'Account'),\n",
       " (7, 'Satish', 'Kumar', 75000, 'Account'),\n",
       " (8, 'Geetika', 'Chauhan', 90000, 'Admin'),\n",
       " (1, 'Monica', 'Arora', 100000, 'HR'),\n",
       " (2, 'Niharika', 'Verma', 80000, 'Admin'),\n",
       " (3, 'Vishal', 'Singhal', 300000, 'HR'),\n",
       " (4, 'Amitabh', 'Singh', 500000, 'Admin'),\n",
       " (5, 'Vivek', 'Bhati', 500000, 'Admin'),\n",
       " (6, 'Vipul', 'Diwan', 200000, 'Account'),\n",
       " (7, 'Satish', 'Kumar', 75000, 'Account'),\n",
       " (8, 'Geetika', 'Chauhan', 90000, 'Admin')]"
      ]
     },
     "execution_count": 74,
     "metadata": {},
     "output_type": "execute_result"
    }
   ],
   "source": [
    "cursor.fetchall()"
   ]
  },
  {
   "cell_type": "markdown",
   "id": "11fc4dcd",
   "metadata": {},
   "source": [
    "# Q-1. Write an SQL query to fetch “FIRST_NAME” from Worker table using the alias name as <WORKER_NAME>;."
   ]
  },
  {
   "cell_type": "code",
   "execution_count": 75,
   "id": "3301d93d",
   "metadata": {},
   "outputs": [],
   "source": [
    "cursor.execute('select FIRST_NAME as WORKER_NAME from worker')"
   ]
  },
  {
   "cell_type": "code",
   "execution_count": 76,
   "id": "b42d2281",
   "metadata": {},
   "outputs": [
    {
     "data": {
      "text/plain": [
       "[('Monica',),\n",
       " ('Niharika',),\n",
       " ('Vishal',),\n",
       " ('Amitabh',),\n",
       " ('Vivek',),\n",
       " ('Vipul',),\n",
       " ('Satish',),\n",
       " ('Geetika',),\n",
       " ('Monica',),\n",
       " ('Niharika',),\n",
       " ('Vishal',),\n",
       " ('Amitabh',),\n",
       " ('Vivek',),\n",
       " ('Vipul',),\n",
       " ('Satish',),\n",
       " ('Geetika',)]"
      ]
     },
     "execution_count": 76,
     "metadata": {},
     "output_type": "execute_result"
    }
   ],
   "source": [
    "cursor.fetchall()"
   ]
  },
  {
   "cell_type": "markdown",
   "id": "ae82d2bf",
   "metadata": {},
   "source": [
    "# Q-2. Write an SQL query to fetch unique values of DEPARTMENT from Worker table."
   ]
  },
  {
   "cell_type": "code",
   "execution_count": 77,
   "id": "b4eded6c",
   "metadata": {},
   "outputs": [],
   "source": [
    "cursor.execute('select distinct department from worker')"
   ]
  },
  {
   "cell_type": "code",
   "execution_count": 78,
   "id": "7db3743a",
   "metadata": {},
   "outputs": [
    {
     "data": {
      "text/plain": [
       "[('HR',), ('Admin',), ('Account',)]"
      ]
     },
     "execution_count": 78,
     "metadata": {},
     "output_type": "execute_result"
    }
   ],
   "source": [
    "cursor.fetchall()"
   ]
  },
  {
   "cell_type": "markdown",
   "id": "5118ea0b",
   "metadata": {},
   "source": [
    "# Q-3. Write an SQL query to show the last 5 record from a table."
   ]
  },
  {
   "cell_type": "code",
   "execution_count": 84,
   "id": "71fa0a22",
   "metadata": {},
   "outputs": [],
   "source": [
    "cursor.execute('select * from(select * from worker order by worker_id desc limit 5)var1 order by worker_id asc')"
   ]
  },
  {
   "cell_type": "code",
   "execution_count": 85,
   "id": "41717d22",
   "metadata": {},
   "outputs": [
    {
     "data": {
      "text/plain": [
       "[(6, 'Vipul', 'Diwan', 200000, 'Account'),\n",
       " (7, 'Satish', 'Kumar', 75000, 'Account'),\n",
       " (7, 'Satish', 'Kumar', 75000, 'Account'),\n",
       " (8, 'Geetika', 'Chauhan', 90000, 'Admin'),\n",
       " (8, 'Geetika', 'Chauhan', 90000, 'Admin')]"
      ]
     },
     "execution_count": 85,
     "metadata": {},
     "output_type": "execute_result"
    }
   ],
   "source": [
    "cursor.fetchall()"
   ]
  },
  {
   "cell_type": "code",
   "execution_count": null,
   "id": "1181e004",
   "metadata": {},
   "outputs": [],
   "source": []
  }
 ],
 "metadata": {
  "kernelspec": {
   "display_name": "Python 3 (ipykernel)",
   "language": "python",
   "name": "python3"
  },
  "language_info": {
   "codemirror_mode": {
    "name": "ipython",
    "version": 3
   },
   "file_extension": ".py",
   "mimetype": "text/x-python",
   "name": "python",
   "nbconvert_exporter": "python",
   "pygments_lexer": "ipython3",
   "version": "3.9.7"
  }
 },
 "nbformat": 4,
 "nbformat_minor": 5
}

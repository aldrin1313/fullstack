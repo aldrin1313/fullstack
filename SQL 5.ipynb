{
 "cells": [
  {
   "cell_type": "code",
   "execution_count": 1,
   "id": "ebfeb6d3",
   "metadata": {},
   "outputs": [],
   "source": [
    "import mysql.connector as conn\n",
    "import pandas as pd"
   ]
  },
  {
   "cell_type": "code",
   "execution_count": 2,
   "id": "a8038e10",
   "metadata": {},
   "outputs": [],
   "source": [
    "mydb=conn.connect(host='localhost', user='root',password='mysql')"
   ]
  },
  {
   "cell_type": "code",
   "execution_count": 3,
   "id": "a224511c",
   "metadata": {},
   "outputs": [],
   "source": [
    "cursor=mydb.cursor()"
   ]
  },
  {
   "cell_type": "code",
   "execution_count": 4,
   "id": "45312882",
   "metadata": {},
   "outputs": [],
   "source": [
    "cursor.execute('show databases')"
   ]
  },
  {
   "cell_type": "code",
   "execution_count": 5,
   "id": "6e2dacf6",
   "metadata": {},
   "outputs": [
    {
     "data": {
      "text/plain": [
       "[('bank',),\n",
       " ('ineuron',),\n",
       " ('ineuron1',),\n",
       " ('information_schema',),\n",
       " ('mysql',),\n",
       " ('org',),\n",
       " ('performance_schema',),\n",
       " ('sakila',),\n",
       " ('sys',),\n",
       " ('world',)]"
      ]
     },
     "execution_count": 5,
     "metadata": {},
     "output_type": "execute_result"
    }
   ],
   "source": [
    "cursor.fetchall()"
   ]
  },
  {
   "cell_type": "code",
   "execution_count": 6,
   "id": "c1eef750",
   "metadata": {},
   "outputs": [],
   "source": [
    "cursor.execute('use org')"
   ]
  },
  {
   "cell_type": "code",
   "execution_count": 7,
   "id": "9351a5d5",
   "metadata": {},
   "outputs": [],
   "source": [
    "cursor.execute('show tables')"
   ]
  },
  {
   "cell_type": "code",
   "execution_count": 8,
   "id": "d5fe21b2",
   "metadata": {},
   "outputs": [
    {
     "data": {
      "text/plain": [
       "[('data',), ('worker',)]"
      ]
     },
     "execution_count": 8,
     "metadata": {},
     "output_type": "execute_result"
    }
   ],
   "source": [
    "cursor.fetchall()"
   ]
  },
  {
   "cell_type": "code",
   "execution_count": 9,
   "id": "22ddc3c8",
   "metadata": {},
   "outputs": [],
   "source": [
    "cursor.execute('select * from worker')"
   ]
  },
  {
   "cell_type": "code",
   "execution_count": 10,
   "id": "cbf13e86",
   "metadata": {},
   "outputs": [
    {
     "data": {
      "text/plain": [
       "[]"
      ]
     },
     "execution_count": 10,
     "metadata": {},
     "output_type": "execute_result"
    }
   ],
   "source": [
    "cursor.fetchall()"
   ]
  },
  {
   "cell_type": "code",
   "execution_count": 11,
   "id": "de2d131d",
   "metadata": {},
   "outputs": [],
   "source": [
    "cursor.execute(\"INSERT into WORKER values (001, 'Monica', 'Arora', 100000, 'HR'), (002, 'Niharika', 'Verma', 80000, 'Admin'), (003, 'Vishal', 'Singhal', 300000, 'HR'),(004, 'Amitabh', 'Singh', 500000, 'Admin'), (005, 'Vivek', 'Bhati', 500000, 'Admin'), (006, 'Vipul', 'Diwan', 200000, 'Account'), (007, 'Satish', 'Kumar', 75000, 'Account'), (008, 'Geetika', 'Chauhan', 90000, 'Admin');\")"
   ]
  },
  {
   "cell_type": "code",
   "execution_count": 12,
   "id": "6c9e84af",
   "metadata": {},
   "outputs": [],
   "source": [
    "cursor.execute('select * from worker')"
   ]
  },
  {
   "cell_type": "code",
   "execution_count": 13,
   "id": "79a01051",
   "metadata": {},
   "outputs": [
    {
     "data": {
      "text/plain": [
       "[(1, 'Monica', 'Arora', 100000, 'HR'),\n",
       " (2, 'Niharika', 'Verma', 80000, 'Admin'),\n",
       " (3, 'Vishal', 'Singhal', 300000, 'HR'),\n",
       " (4, 'Amitabh', 'Singh', 500000, 'Admin'),\n",
       " (5, 'Vivek', 'Bhati', 500000, 'Admin'),\n",
       " (6, 'Vipul', 'Diwan', 200000, 'Account'),\n",
       " (7, 'Satish', 'Kumar', 75000, 'Account'),\n",
       " (8, 'Geetika', 'Chauhan', 90000, 'Admin')]"
      ]
     },
     "execution_count": 13,
     "metadata": {},
     "output_type": "execute_result"
    }
   ],
   "source": [
    "cursor.fetchall()"
   ]
  },
  {
   "cell_type": "markdown",
   "id": "1d42f8f9",
   "metadata": {},
   "source": [
    "# Q-1. Write an SQL query to print details of workers excluding first names, “Vipul” and “Satish” from Worker table."
   ]
  },
  {
   "cell_type": "code",
   "execution_count": 22,
   "id": "4a584de9",
   "metadata": {},
   "outputs": [],
   "source": [
    "cursor.execute('select * from worker where first_name not in(\"Vipul\" and \"Satish\")')"
   ]
  },
  {
   "cell_type": "markdown",
   "id": "2cff9305",
   "metadata": {},
   "source": [
    "# Q-2. Write an SQL query to print details of the Workers whose FIRST_NAME ends with ‘h’ and contains six alphabets."
   ]
  },
  {
   "cell_type": "code",
   "execution_count": 38,
   "id": "d66b2a02",
   "metadata": {},
   "outputs": [],
   "source": [
    "cursor.execute(\"select * from worker where (first_name like '%h') and char_length(first_name)=6\")"
   ]
  },
  {
   "cell_type": "code",
   "execution_count": 39,
   "id": "108bf994",
   "metadata": {},
   "outputs": [
    {
     "data": {
      "text/plain": [
       "[(7, 'Satish', 'Kumar', 75000, 'Account')]"
      ]
     },
     "execution_count": 39,
     "metadata": {},
     "output_type": "execute_result"
    }
   ],
   "source": [
    "cursor.fetchall()"
   ]
  },
  {
   "cell_type": "markdown",
   "id": "6b4bc9d6",
   "metadata": {},
   "source": [
    "# Q-3. Write an SQL query to print details of the Workers whose FIRST_NAME starts with ‘v’"
   ]
  },
  {
   "cell_type": "code",
   "execution_count": 43,
   "id": "1bfbe861",
   "metadata": {},
   "outputs": [],
   "source": [
    "cursor.execute(\"select * from worker where first_name like 'v%'\")"
   ]
  },
  {
   "cell_type": "code",
   "execution_count": 44,
   "id": "f14e520c",
   "metadata": {},
   "outputs": [
    {
     "data": {
      "text/plain": [
       "[(3, 'Vishal', 'Singhal', 300000, 'HR'),\n",
       " (5, 'Vivek', 'Bhati', 500000, 'Admin'),\n",
       " (6, 'Vipul', 'Diwan', 200000, 'Account')]"
      ]
     },
     "execution_count": 44,
     "metadata": {},
     "output_type": "execute_result"
    }
   ],
   "source": [
    "cursor.fetchall()"
   ]
  }
 ],
 "metadata": {
  "kernelspec": {
   "display_name": "Python 3 (ipykernel)",
   "language": "python",
   "name": "python3"
  },
  "language_info": {
   "codemirror_mode": {
    "name": "ipython",
    "version": 3
   },
   "file_extension": ".py",
   "mimetype": "text/x-python",
   "name": "python",
   "nbconvert_exporter": "python",
   "pygments_lexer": "ipython3",
   "version": "3.9.7"
  }
 },
 "nbformat": 4,
 "nbformat_minor": 5
}
